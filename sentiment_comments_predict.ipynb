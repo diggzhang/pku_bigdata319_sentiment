{
 "cells": [
  {
   "cell_type": "code",
   "execution_count": 12,
   "metadata": {},
   "outputs": [
    {
     "name": "stdout",
     "output_type": "stream",
     "text": [
      "果然还是notebook好用\n"
     ]
    }
   ],
   "source": [
    "print(\"果然还是notebook好用\")"
   ]
  },
  {
   "cell_type": "code",
   "execution_count": 13,
   "metadata": {},
   "outputs": [],
   "source": [
    "#!/usr/bin/env python\n",
    "# -*- coding: utf-8  -*-\n",
    "import sys\n",
    "import jieba\n",
    "import jieba.analyse\n",
    "import pandas\n",
    "\n",
    "SORUCE_FILE = \"clean_data.csv\"\n",
    "# jieba.analyse.set_stop_words(\"stopwords_dict.txt\")"
   ]
  },
  {
   "cell_type": "code",
   "execution_count": 14,
   "metadata": {},
   "outputs": [],
   "source": [
    "source_file_df =  pandas.read_csv(SORUCE_FILE, header=None, names=['a', 'b', 'comment', 'frequence', 'sentiment'])"
   ]
  },
  {
   "cell_type": "code",
   "execution_count": 17,
   "metadata": {},
   "outputs": [
    {
     "data": {
      "text/html": [
       "<div>\n",
       "<style scoped>\n",
       "    .dataframe tbody tr th:only-of-type {\n",
       "        vertical-align: middle;\n",
       "    }\n",
       "\n",
       "    .dataframe tbody tr th {\n",
       "        vertical-align: top;\n",
       "    }\n",
       "\n",
       "    .dataframe thead th {\n",
       "        text-align: right;\n",
       "    }\n",
       "</style>\n",
       "<table border=\"1\" class=\"dataframe\">\n",
       "  <thead>\n",
       "    <tr style=\"text-align: right;\">\n",
       "      <th></th>\n",
       "      <th>a</th>\n",
       "      <th>b</th>\n",
       "      <th>comment</th>\n",
       "      <th>frequence</th>\n",
       "      <th>sentiment</th>\n",
       "    </tr>\n",
       "  </thead>\n",
       "  <tbody>\n",
       "    <tr>\n",
       "      <th>0</th>\n",
       "      <td>1</td>\n",
       "      <td>1.055840e+10</td>\n",
       "      <td>东西好吃</td>\n",
       "      <td>41</td>\n",
       "      <td>1</td>\n",
       "    </tr>\n",
       "    <tr>\n",
       "      <th>1</th>\n",
       "      <td>2</td>\n",
       "      <td>1.055840e+10</td>\n",
       "      <td>味道可以</td>\n",
       "      <td>37</td>\n",
       "      <td>1</td>\n",
       "    </tr>\n",
       "    <tr>\n",
       "      <th>2</th>\n",
       "      <td>3</td>\n",
       "      <td>1.055840e+10</td>\n",
       "      <td>贵</td>\n",
       "      <td>35</td>\n",
       "      <td>0</td>\n",
       "    </tr>\n",
       "    <tr>\n",
       "      <th>3</th>\n",
       "      <td>4</td>\n",
       "      <td>1.055840e+10</td>\n",
       "      <td>超快送达</td>\n",
       "      <td>35</td>\n",
       "      <td>1</td>\n",
       "    </tr>\n",
       "    <tr>\n",
       "      <th>4</th>\n",
       "      <td>5</td>\n",
       "      <td>1.055840e+10</td>\n",
       "      <td>松子太好吃</td>\n",
       "      <td>32</td>\n",
       "      <td>1</td>\n",
       "    </tr>\n",
       "  </tbody>\n",
       "</table>\n",
       "</div>"
      ],
      "text/plain": [
       "   a             b comment  frequence  sentiment\n",
       "0  1  1.055840e+10    东西好吃         41          1\n",
       "1  2  1.055840e+10    味道可以         37          1\n",
       "2  3  1.055840e+10       贵         35          0\n",
       "3  4  1.055840e+10    超快送达         35          1\n",
       "4  5  1.055840e+10   松子太好吃         32          1"
      ]
     },
     "execution_count": 17,
     "metadata": {},
     "output_type": "execute_result"
    }
   ],
   "source": [
    "source_file_df.head()"
   ]
  },
  {
   "cell_type": "code",
   "execution_count": 31,
   "metadata": {},
   "outputs": [
    {
     "data": {
      "text/html": [
       "<div>\n",
       "<style scoped>\n",
       "    .dataframe tbody tr th:only-of-type {\n",
       "        vertical-align: middle;\n",
       "    }\n",
       "\n",
       "    .dataframe tbody tr th {\n",
       "        vertical-align: top;\n",
       "    }\n",
       "\n",
       "    .dataframe thead th {\n",
       "        text-align: right;\n",
       "    }\n",
       "</style>\n",
       "<table border=\"1\" class=\"dataframe\">\n",
       "  <thead>\n",
       "    <tr style=\"text-align: right;\">\n",
       "      <th></th>\n",
       "      <th>comment</th>\n",
       "    </tr>\n",
       "  </thead>\n",
       "  <tbody>\n",
       "    <tr>\n",
       "      <th>0</th>\n",
       "      <td>东西好吃</td>\n",
       "    </tr>\n",
       "    <tr>\n",
       "      <th>1</th>\n",
       "      <td>味道可以</td>\n",
       "    </tr>\n",
       "    <tr>\n",
       "      <th>2</th>\n",
       "      <td>贵</td>\n",
       "    </tr>\n",
       "    <tr>\n",
       "      <th>3</th>\n",
       "      <td>超快送达</td>\n",
       "    </tr>\n",
       "    <tr>\n",
       "      <th>4</th>\n",
       "      <td>松子太好吃</td>\n",
       "    </tr>\n",
       "  </tbody>\n",
       "</table>\n",
       "</div>"
      ],
      "text/plain": [
       "  comment\n",
       "0    东西好吃\n",
       "1    味道可以\n",
       "2       贵\n",
       "3    超快送达\n",
       "4   松子太好吃"
      ]
     },
     "execution_count": 31,
     "metadata": {},
     "output_type": "execute_result"
    }
   ],
   "source": [
    "X = source_file_df[['comment']]\n",
    "y = source_file_df.sentiment\n",
    "X.shape, y.shape\n",
    "X.head()"
   ]
  },
  {
   "cell_type": "code",
   "execution_count": 34,
   "metadata": {},
   "outputs": [
    {
     "name": "stderr",
     "output_type": "stream",
     "text": [
      "/anaconda3/lib/python3.7/site-packages/ipykernel_launcher.py:4: SettingWithCopyWarning: \n",
      "A value is trying to be set on a copy of a slice from a DataFrame.\n",
      "Try using .loc[row_indexer,col_indexer] = value instead\n",
      "\n",
      "See the caveats in the documentation: http://pandas.pydata.org/pandas-docs/stable/indexing.html#indexing-view-versus-copy\n",
      "  after removing the cwd from sys.path.\n"
     ]
    },
    {
     "data": {
      "text/html": [
       "<div>\n",
       "<style scoped>\n",
       "    .dataframe tbody tr th:only-of-type {\n",
       "        vertical-align: middle;\n",
       "    }\n",
       "\n",
       "    .dataframe tbody tr th {\n",
       "        vertical-align: top;\n",
       "    }\n",
       "\n",
       "    .dataframe thead th {\n",
       "        text-align: right;\n",
       "    }\n",
       "</style>\n",
       "<table border=\"1\" class=\"dataframe\">\n",
       "  <thead>\n",
       "    <tr style=\"text-align: right;\">\n",
       "      <th></th>\n",
       "      <th>comment</th>\n",
       "      <th>cutted_comment</th>\n",
       "    </tr>\n",
       "  </thead>\n",
       "  <tbody>\n",
       "    <tr>\n",
       "      <th>0</th>\n",
       "      <td>东西好吃</td>\n",
       "      <td>东西 好吃</td>\n",
       "    </tr>\n",
       "    <tr>\n",
       "      <th>1</th>\n",
       "      <td>味道可以</td>\n",
       "      <td>味道 可以</td>\n",
       "    </tr>\n",
       "    <tr>\n",
       "      <th>2</th>\n",
       "      <td>贵</td>\n",
       "      <td>贵</td>\n",
       "    </tr>\n",
       "    <tr>\n",
       "      <th>3</th>\n",
       "      <td>超快送达</td>\n",
       "      <td>超快 送达</td>\n",
       "    </tr>\n",
       "    <tr>\n",
       "      <th>4</th>\n",
       "      <td>松子太好吃</td>\n",
       "      <td>松子 太 好吃</td>\n",
       "    </tr>\n",
       "  </tbody>\n",
       "</table>\n",
       "</div>"
      ],
      "text/plain": [
       "  comment cutted_comment\n",
       "0    东西好吃          东西 好吃\n",
       "1    味道可以          味道 可以\n",
       "2       贵              贵\n",
       "3    超快送达          超快 送达\n",
       "4   松子太好吃        松子 太 好吃"
      ]
     },
     "execution_count": 34,
     "metadata": {},
     "output_type": "execute_result"
    }
   ],
   "source": [
    "def chinese_word_cut(mytext):\n",
    "    return \" \".join(jieba.cut(mytext))\n",
    "\n",
    "X['cutted_comment'] = X.comment.apply(chinese_word_cut)\n",
    "\n",
    "X.head()"
   ]
  },
  {
   "cell_type": "code",
   "execution_count": 76,
   "metadata": {},
   "outputs": [
    {
     "name": "stderr",
     "output_type": "stream",
     "text": [
      "/anaconda3/lib/python3.7/site-packages/sklearn/model_selection/_split.py:2179: FutureWarning: From version 0.21, test_size will always complement train_size unless both are specified.\n",
      "  FutureWarning)\n"
     ]
    }
   ],
   "source": [
    "from sklearn.model_selection import train_test_split\n",
    "X_train, X_test, y_train, y_test = train_test_split(X, y, train_size=6000)"
   ]
  },
  {
   "cell_type": "code",
   "execution_count": 77,
   "metadata": {},
   "outputs": [
    {
     "data": {
      "text/plain": [
       "((6000, 2), (2854, 2), (6000,), (2854,))"
      ]
     },
     "execution_count": 77,
     "metadata": {},
     "output_type": "execute_result"
    }
   ],
   "source": [
    "X_train.shape, X_test.shape, y_train.shape, y_test.shape"
   ]
  },
  {
   "cell_type": "code",
   "execution_count": 78,
   "metadata": {},
   "outputs": [],
   "source": [
    "from sklearn.feature_extraction.text import CountVectorizer\n",
    "vect = CountVectorizer()"
   ]
  },
  {
   "cell_type": "code",
   "execution_count": 79,
   "metadata": {},
   "outputs": [
    {
     "data": {
      "text/html": [
       "<div>\n",
       "<style scoped>\n",
       "    .dataframe tbody tr th:only-of-type {\n",
       "        vertical-align: middle;\n",
       "    }\n",
       "\n",
       "    .dataframe tbody tr th {\n",
       "        vertical-align: top;\n",
       "    }\n",
       "\n",
       "    .dataframe thead th {\n",
       "        text-align: right;\n",
       "    }\n",
       "</style>\n",
       "<table border=\"1\" class=\"dataframe\">\n",
       "  <thead>\n",
       "    <tr style=\"text-align: right;\">\n",
       "      <th></th>\n",
       "      <th>一个</th>\n",
       "      <th>一些</th>\n",
       "      <th>一包</th>\n",
       "      <th>一大</th>\n",
       "      <th>一样</th>\n",
       "      <th>一流</th>\n",
       "      <th>一点</th>\n",
       "      <th>一盒</th>\n",
       "      <th>一直</th>\n",
       "      <th>一股</th>\n",
       "      <th>...</th>\n",
       "      <th>香酥</th>\n",
       "      <th>香酥可口</th>\n",
       "      <th>香香的</th>\n",
       "      <th>高大</th>\n",
       "      <th>高性价比</th>\n",
       "      <th>高质量</th>\n",
       "      <th>鲜香</th>\n",
       "      <th>麻麻</th>\n",
       "      <th>黑豆</th>\n",
       "      <th>齐全</th>\n",
       "    </tr>\n",
       "  </thead>\n",
       "  <tbody>\n",
       "    <tr>\n",
       "      <th>0</th>\n",
       "      <td>0</td>\n",
       "      <td>0</td>\n",
       "      <td>0</td>\n",
       "      <td>0</td>\n",
       "      <td>0</td>\n",
       "      <td>0</td>\n",
       "      <td>0</td>\n",
       "      <td>0</td>\n",
       "      <td>0</td>\n",
       "      <td>0</td>\n",
       "      <td>...</td>\n",
       "      <td>0</td>\n",
       "      <td>0</td>\n",
       "      <td>0</td>\n",
       "      <td>0</td>\n",
       "      <td>0</td>\n",
       "      <td>0</td>\n",
       "      <td>0</td>\n",
       "      <td>0</td>\n",
       "      <td>0</td>\n",
       "      <td>0</td>\n",
       "    </tr>\n",
       "    <tr>\n",
       "      <th>1</th>\n",
       "      <td>0</td>\n",
       "      <td>0</td>\n",
       "      <td>0</td>\n",
       "      <td>0</td>\n",
       "      <td>0</td>\n",
       "      <td>0</td>\n",
       "      <td>0</td>\n",
       "      <td>0</td>\n",
       "      <td>0</td>\n",
       "      <td>0</td>\n",
       "      <td>...</td>\n",
       "      <td>0</td>\n",
       "      <td>0</td>\n",
       "      <td>0</td>\n",
       "      <td>0</td>\n",
       "      <td>0</td>\n",
       "      <td>0</td>\n",
       "      <td>0</td>\n",
       "      <td>0</td>\n",
       "      <td>0</td>\n",
       "      <td>0</td>\n",
       "    </tr>\n",
       "    <tr>\n",
       "      <th>2</th>\n",
       "      <td>0</td>\n",
       "      <td>0</td>\n",
       "      <td>0</td>\n",
       "      <td>0</td>\n",
       "      <td>0</td>\n",
       "      <td>0</td>\n",
       "      <td>0</td>\n",
       "      <td>0</td>\n",
       "      <td>0</td>\n",
       "      <td>0</td>\n",
       "      <td>...</td>\n",
       "      <td>0</td>\n",
       "      <td>0</td>\n",
       "      <td>0</td>\n",
       "      <td>0</td>\n",
       "      <td>0</td>\n",
       "      <td>0</td>\n",
       "      <td>0</td>\n",
       "      <td>0</td>\n",
       "      <td>0</td>\n",
       "      <td>0</td>\n",
       "    </tr>\n",
       "    <tr>\n",
       "      <th>3</th>\n",
       "      <td>0</td>\n",
       "      <td>0</td>\n",
       "      <td>0</td>\n",
       "      <td>0</td>\n",
       "      <td>0</td>\n",
       "      <td>0</td>\n",
       "      <td>0</td>\n",
       "      <td>0</td>\n",
       "      <td>0</td>\n",
       "      <td>0</td>\n",
       "      <td>...</td>\n",
       "      <td>0</td>\n",
       "      <td>0</td>\n",
       "      <td>0</td>\n",
       "      <td>0</td>\n",
       "      <td>0</td>\n",
       "      <td>0</td>\n",
       "      <td>0</td>\n",
       "      <td>0</td>\n",
       "      <td>0</td>\n",
       "      <td>0</td>\n",
       "    </tr>\n",
       "    <tr>\n",
       "      <th>4</th>\n",
       "      <td>0</td>\n",
       "      <td>0</td>\n",
       "      <td>0</td>\n",
       "      <td>0</td>\n",
       "      <td>0</td>\n",
       "      <td>0</td>\n",
       "      <td>0</td>\n",
       "      <td>0</td>\n",
       "      <td>0</td>\n",
       "      <td>0</td>\n",
       "      <td>...</td>\n",
       "      <td>0</td>\n",
       "      <td>0</td>\n",
       "      <td>0</td>\n",
       "      <td>0</td>\n",
       "      <td>0</td>\n",
       "      <td>0</td>\n",
       "      <td>0</td>\n",
       "      <td>0</td>\n",
       "      <td>0</td>\n",
       "      <td>0</td>\n",
       "    </tr>\n",
       "  </tbody>\n",
       "</table>\n",
       "<p>5 rows × 648 columns</p>\n",
       "</div>"
      ],
      "text/plain": [
       "   一个  一些  一包  一大  一样  一流  一点  一盒  一直  一股  ...  香酥  香酥可口  香香的  高大  高性价比  高质量  \\\n",
       "0   0   0   0   0   0   0   0   0   0   0  ...   0     0    0   0     0    0   \n",
       "1   0   0   0   0   0   0   0   0   0   0  ...   0     0    0   0     0    0   \n",
       "2   0   0   0   0   0   0   0   0   0   0  ...   0     0    0   0     0    0   \n",
       "3   0   0   0   0   0   0   0   0   0   0  ...   0     0    0   0     0    0   \n",
       "4   0   0   0   0   0   0   0   0   0   0  ...   0     0    0   0     0    0   \n",
       "\n",
       "   鲜香  麻麻  黑豆  齐全  \n",
       "0   0   0   0   0  \n",
       "1   0   0   0   0  \n",
       "2   0   0   0   0  \n",
       "3   0   0   0   0  \n",
       "4   0   0   0   0  \n",
       "\n",
       "[5 rows x 648 columns]"
      ]
     },
     "execution_count": 79,
     "metadata": {},
     "output_type": "execute_result"
    }
   ],
   "source": [
    "import pandas as pd\n",
    "term_matrix = pd.DataFrame(vect.fit_transform(X_train.cutted_comment).toarray(), columns=vect.get_feature_names())\n",
    "term_matrix.head()"
   ]
  },
  {
   "cell_type": "code",
   "execution_count": 80,
   "metadata": {},
   "outputs": [
    {
     "data": {
      "text/plain": [
       "(6000, 648)"
      ]
     },
     "execution_count": 80,
     "metadata": {},
     "output_type": "execute_result"
    }
   ],
   "source": [
    "term_matrix.shape"
   ]
  },
  {
   "cell_type": "code",
   "execution_count": 81,
   "metadata": {},
   "outputs": [],
   "source": [
    "from sklearn.naive_bayes import MultinomialNB\n",
    "nb = MultinomialNB()"
   ]
  },
  {
   "cell_type": "code",
   "execution_count": 82,
   "metadata": {},
   "outputs": [],
   "source": [
    "from sklearn.pipeline import make_pipeline\n",
    "pipe = make_pipeline(vect, nb)"
   ]
  },
  {
   "cell_type": "code",
   "execution_count": 83,
   "metadata": {},
   "outputs": [
    {
     "data": {
      "text/plain": [
       "[('countvectorizer',\n",
       "  CountVectorizer(analyzer='word', binary=False, decode_error='strict',\n",
       "          dtype=<class 'numpy.int64'>, encoding='utf-8', input='content',\n",
       "          lowercase=True, max_df=1.0, max_features=None, min_df=1,\n",
       "          ngram_range=(1, 1), preprocessor=None, stop_words=None,\n",
       "          strip_accents=None, token_pattern='(?u)\\\\b\\\\w\\\\w+\\\\b',\n",
       "          tokenizer=None, vocabulary=None)),\n",
       " ('multinomialnb', MultinomialNB(alpha=1.0, class_prior=None, fit_prior=True))]"
      ]
     },
     "execution_count": 83,
     "metadata": {},
     "output_type": "execute_result"
    }
   ],
   "source": [
    "pipe.steps"
   ]
  },
  {
   "cell_type": "code",
   "execution_count": 84,
   "metadata": {},
   "outputs": [
    {
     "data": {
      "text/plain": [
       "[1652        很 划算\n",
       " 4652     口感 差多 了\n",
       " 3990    东西 挺 好 的\n",
       " 3411     坚果 很 好吃\n",
       " 6030       味道 一般\n",
       " 1293          很香\n",
       " 2108        味道 好\n",
       " 6188       包装 严密\n",
       " 1475        质量 好\n",
       " 5501       味道 新鲜\n",
       " 1175     物流 也 很快\n",
       " 885      味道 很 不错\n",
       " 7808       五分 好评\n",
       " 4797        服务周到\n",
       " 349        味道 一般\n",
       " 1000      味道 一般般\n",
       " 7071     东西 很 不错\n",
       " 5145          实惠\n",
       " 270      小孩 喜欢 吃\n",
       " 6209        收货 快\n",
       " 6062    多 吃 坚果 好\n",
       " 5059       超级 不值\n",
       " 7314       有点 小贵\n",
       " 7962     碧根果 很 香\n",
       " 3816      吃 着 放心\n",
       " 3779       价格 实惠\n",
       " 7845        香味 浓\n",
       " 7889     孩子 很 喜欢\n",
       " 172       香 香脆 脆\n",
       " 6356     朋友 推荐 的\n",
       "           ...   \n",
       " 984        味道 一般\n",
       " 6850       味道 不错\n",
       " 6998    味道 挺 好 的\n",
       " 5268     新鲜 无 异味\n",
       " 6153       味 很 正\n",
       " 1271        味道 好\n",
       " 4859     经济 还 实惠\n",
       " 6454      包装 挺 好\n",
       " 2226     不是 很 饱满\n",
       " 3615       香酥 好吃\n",
       " 8796    大家 幸福 平安\n",
       " 5053      东西 很 好\n",
       " 3668     板栗 很 好吃\n",
       " 2267      东西 很 好\n",
       " 7053      物流 也 快\n",
       " 4212      服务 很 好\n",
       " 2380       坚果 不错\n",
       " 1702       快递 很快\n",
       " 4632       发货 很快\n",
       " 3408        物美价廉\n",
       " 4958      质量 很 好\n",
       " 1589       物流 很快\n",
       " 7748       包装 满意\n",
       " 3978     东西 也 齐全\n",
       " 8479       香脆 不腻\n",
       " 4218        很 实惠\n",
       " 6112     不错 二 大包\n",
       " 5165       核桃 不错\n",
       " 3950     女儿 喜欢 吃\n",
       " 1055     物流 超级 快\n",
       " Name: cutted_comment, Length: 4500, dtype: object, 1681    核桃 挺 好 的\n",
       " 5320      低价 高质量\n",
       " 1485        质量 好\n",
       " 893      质量 非常 好\n",
       " 6402        好 东西\n",
       " 2663       香而 不腻\n",
       " 1419     物流 很快 啊\n",
       " 6267        物美价廉\n",
       " 6581       包装 也好\n",
       " 1723       快递 很快\n",
       " 2780       坦诚 一点\n",
       " 5182     口感 还 不错\n",
       " 7508        很 新鲜\n",
       " 2302       味道 还好\n",
       " 5594     不错 的 宝贝\n",
       " 981         服务 好\n",
       " 6520    服务 也 很 好\n",
       " 8027        很 划算\n",
       " 1011          味香\n",
       " 8319       物流 很快\n",
       " 4338       宝贝 不错\n",
       " 286        质量 不错\n",
       " 6901      包装 很 好\n",
       " 462           饱满\n",
       " 4262        很 划算\n",
       " 5289          很香\n",
       " 1529     量足 味道 好\n",
       " 5598     价格 很 便宜\n",
       " 4562        软软 的\n",
       " 8761     松子 很 不错\n",
       "           ...   \n",
       " 1845      蜂蜜 还 行\n",
       " 1647       味道 也好\n",
       " 2231     物流 也 很快\n",
       " 878       味道 挺 好\n",
       " 6873      都 很 新鲜\n",
       " 5066    腰果 都 碎 了\n",
       " 115        发货 很快\n",
       " 7633       产品 很棒\n",
       " 3477       味道 一般\n",
       " 7091     坚果 很 新鲜\n",
       " 3826        方便 快\n",
       " 6854      包装 很 好\n",
       " 2450       服务 一流\n",
       " 774        物流 很快\n",
       " 3430       有点 小贵\n",
       " 7143     孩子 很 喜欢\n",
       " 2580           香\n",
       " 6876       颗粒 饱满\n",
       " 582        味道 可以\n",
       " 3495       物流 给力\n",
       " 5174        很 新鲜\n",
       " 4711     没有 腰果 好\n",
       " 2724       质量 可以\n",
       " 6525       独立 包装\n",
       " 7523       物流 很快\n",
       " 3118    质量 也 很 好\n",
       " 927     香 香脆 脆 的\n",
       " 7162     吃 起来 很香\n",
       " 5094       可惜 小贵\n",
       " 3554    包装 挺 好 的\n",
       " Name: cutted_comment, Length: 1500, dtype: object, 1652    1\n",
       " 4652    0\n",
       " 3990    1\n",
       " 3411    1\n",
       " 6030    0\n",
       " 1293    1\n",
       " 2108    1\n",
       " 6188    1\n",
       " 1475    1\n",
       " 5501    1\n",
       " 1175    1\n",
       " 885     1\n",
       " 7808    1\n",
       " 4797    1\n",
       " 349     0\n",
       " 1000    0\n",
       " 7071    1\n",
       " 5145    1\n",
       " 270     1\n",
       " 6209    1\n",
       " 6062    1\n",
       " 5059    0\n",
       " 7314    0\n",
       " 7962    1\n",
       " 3816    1\n",
       " 3779    1\n",
       " 7845    1\n",
       " 7889    1\n",
       " 172     1\n",
       " 6356    1\n",
       "        ..\n",
       " 984     0\n",
       " 6850    1\n",
       " 6998    1\n",
       " 5268    1\n",
       " 6153    1\n",
       " 1271    1\n",
       " 4859    1\n",
       " 6454    1\n",
       " 2226    0\n",
       " 3615    1\n",
       " 8796    1\n",
       " 5053    1\n",
       " 3668    1\n",
       " 2267    1\n",
       " 7053    1\n",
       " 4212    1\n",
       " 2380    1\n",
       " 1702    1\n",
       " 4632    1\n",
       " 3408    1\n",
       " 4958    1\n",
       " 1589    1\n",
       " 7748    1\n",
       " 3978    1\n",
       " 8479    1\n",
       " 4218    1\n",
       " 6112    1\n",
       " 5165    1\n",
       " 3950    1\n",
       " 1055    1\n",
       " Name: sentiment, Length: 4500, dtype: int64, 1681    1\n",
       " 5320    1\n",
       " 1485    1\n",
       " 893     1\n",
       " 6402    1\n",
       " 2663    1\n",
       " 1419    1\n",
       " 6267    1\n",
       " 6581    1\n",
       " 1723    1\n",
       " 2780    1\n",
       " 5182    1\n",
       " 7508    1\n",
       " 2302    1\n",
       " 5594    1\n",
       " 981     1\n",
       " 6520    1\n",
       " 8027    1\n",
       " 1011    1\n",
       " 8319    1\n",
       " 4338    1\n",
       " 286     1\n",
       " 6901    1\n",
       " 462     1\n",
       " 4262    1\n",
       " 5289    1\n",
       " 1529    1\n",
       " 5598    1\n",
       " 4562    1\n",
       " 8761    1\n",
       "        ..\n",
       " 1845    1\n",
       " 1647    1\n",
       " 2231    1\n",
       " 878     1\n",
       " 6873    1\n",
       " 5066    0\n",
       " 115     1\n",
       " 7633    1\n",
       " 3477    0\n",
       " 7091    1\n",
       " 3826    1\n",
       " 6854    1\n",
       " 2450    1\n",
       " 774     1\n",
       " 3430    0\n",
       " 7143    1\n",
       " 2580    1\n",
       " 6876    1\n",
       " 582     1\n",
       " 3495    1\n",
       " 5174    1\n",
       " 4711    0\n",
       " 2724    1\n",
       " 6525    1\n",
       " 7523    1\n",
       " 3118    1\n",
       " 927     1\n",
       " 7162    1\n",
       " 5094    0\n",
       " 3554    1\n",
       " Name: sentiment, Length: 1500, dtype: int64]"
      ]
     },
     "execution_count": 84,
     "metadata": {},
     "output_type": "execute_result"
    }
   ],
   "source": [
    "# from sklearn.cross_validation import cross_val_score\n",
    "from sklearn.model_selection import train_test_split\n",
    "# cross_val_score(pipe, X_train.cutted_comment, y_train, cv=5, scoring='accuracy').mean()\n",
    "train_test_split(X_train.cutted_comment, y_train)"
   ]
  },
  {
   "cell_type": "code",
   "execution_count": 85,
   "metadata": {},
   "outputs": [
    {
     "data": {
      "text/plain": [
       "Pipeline(memory=None,\n",
       "     steps=[('countvectorizer', CountVectorizer(analyzer='word', binary=False, decode_error='strict',\n",
       "        dtype=<class 'numpy.int64'>, encoding='utf-8', input='content',\n",
       "        lowercase=True, max_df=1.0, max_features=None, min_df=1,\n",
       "        ngram_range=(1, 1), preprocessor=None, stop_words=None,\n",
       "        strip_accents=None, token_pattern='(?u)\\\\b\\\\w\\\\w+\\\\b',\n",
       "        tokenizer=None, vocabulary=None)), ('multinomialnb', MultinomialNB(alpha=1.0, class_prior=None, fit_prior=True))])"
      ]
     },
     "execution_count": 85,
     "metadata": {},
     "output_type": "execute_result"
    }
   ],
   "source": [
    "pipe.fit(X_train.cutted_comment, y_train)"
   ]
  },
  {
   "cell_type": "code",
   "execution_count": 86,
   "metadata": {},
   "outputs": [
    {
     "data": {
      "text/plain": [
       "array([1, 1, 1, ..., 1, 1, 1])"
      ]
     },
     "execution_count": 86,
     "metadata": {},
     "output_type": "execute_result"
    }
   ],
   "source": [
    "pipe.predict(X_test.cutted_comment)"
   ]
  },
  {
   "cell_type": "code",
   "execution_count": 87,
   "metadata": {},
   "outputs": [],
   "source": [
    "y_pred = pipe.predict(X_test.cutted_comment)"
   ]
  },
  {
   "cell_type": "code",
   "execution_count": 88,
   "metadata": {},
   "outputs": [
    {
     "data": {
      "text/plain": [
       "0.9695164681149264"
      ]
     },
     "execution_count": 88,
     "metadata": {},
     "output_type": "execute_result"
    }
   ],
   "source": [
    "from sklearn import metrics\n",
    "metrics.accuracy_score(y_test, y_pred)"
   ]
  },
  {
   "cell_type": "code",
   "execution_count": null,
   "metadata": {},
   "outputs": [],
   "source": []
  }
 ],
 "metadata": {
  "kernelspec": {
   "display_name": "Python 3",
   "language": "python",
   "name": "python3"
  },
  "language_info": {
   "codemirror_mode": {
    "name": "ipython",
    "version": 3
   },
   "file_extension": ".py",
   "mimetype": "text/x-python",
   "name": "python",
   "nbconvert_exporter": "python",
   "pygments_lexer": "ipython3",
   "version": "3.7.3"
  },
  "stem_cell": {
   "cell_type": "raw",
   "metadata": {
    "pycharm": {
     "metadata": false
    }
   },
   "source": "\n"
  }
 },
 "nbformat": 4,
 "nbformat_minor": 1
}
